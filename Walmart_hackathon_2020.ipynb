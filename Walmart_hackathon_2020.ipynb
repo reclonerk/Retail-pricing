{
  "nbformat": 4,
  "nbformat_minor": 0,
  "metadata": {
    "colab": {
      "name": "Walmart-hackathon-2020.ipynb",
      "provenance": [],
      "include_colab_link": true
    },
    "kernelspec": {
      "name": "python3",
      "display_name": "Python 3"
    }
  },
  "cells": [
    {
      "cell_type": "markdown",
      "metadata": {
        "id": "view-in-github",
        "colab_type": "text"
      },
      "source": [
        "<a href=\"https://colab.research.google.com/github/rkauraiya1167/walmart-hackathon-2020/blob/master/Walmart_hackathon_2020.ipynb\" target=\"_parent\"><img src=\"https://colab.research.google.com/assets/colab-badge.svg\" alt=\"Open In Colab\"/></a>"
      ]
    },
    {
      "cell_type": "code",
      "metadata": {
        "id": "CKu_0BfgEKLJ",
        "colab_type": "code",
        "colab": {}
      },
      "source": [
        "import numpy\n",
        "import pandas as pd\n",
        "import notebook"
      ],
      "execution_count": 2,
      "outputs": []
    },
    {
      "cell_type": "code",
      "metadata": {
        "id": "vWeFWC91QQNj",
        "colab_type": "code",
        "colab": {
          "resources": {
            "http://localhost:8080/nbextensions/google.colab/files.js": {
              "data": "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",
              "ok": true,
              "headers": [
                [
                  "content-type",
                  "application/javascript"
                ]
              ],
              "status": 200,
              "status_text": ""
            }
          },
          "base_uri": "https://localhost:8080/",
          "height": 73
        },
        "outputId": "5708c408-b3d9-49b9-ffc9-9fe437cd8bee"
      },
      "source": [
        "from google.colab import files\n",
        "files.upload()\n",
        "nba = pd.read_csv(\"dataset.csv\")"
      ],
      "execution_count": 3,
      "outputs": [
        {
          "output_type": "display_data",
          "data": {
            "text/html": [
              "\n",
              "     <input type=\"file\" id=\"files-760917b4-c937-4f2b-86ef-b30ef6e4cf87\" name=\"files[]\" multiple disabled\n",
              "        style=\"border:none\" />\n",
              "     <output id=\"result-760917b4-c937-4f2b-86ef-b30ef6e4cf87\">\n",
              "      Upload widget is only available when the cell has been executed in the\n",
              "      current browser session. Please rerun this cell to enable.\n",
              "      </output>\n",
              "      <script src=\"/nbextensions/google.colab/files.js\"></script> "
            ],
            "text/plain": [
              "<IPython.core.display.HTML object>"
            ]
          },
          "metadata": {
            "tags": []
          }
        },
        {
          "output_type": "stream",
          "text": [
            "Saving dataset.csv to dataset (2).csv\n"
          ],
          "name": "stdout"
        }
      ]
    },
    {
      "cell_type": "code",
      "metadata": {
        "id": "M1aH9d5DQg9K",
        "colab_type": "code",
        "colab": {
          "base_uri": "https://localhost:8080/",
          "height": 34
        },
        "outputId": "fe8f6019-a45e-46de-f0a5-2cc8a7397f10"
      },
      "source": [
        "import pandas as pd\n",
        "nba\n",
        "type(nba)\n",
        "bUnit = nba.at[10, 'Item_id']\n",
        "bUnit\n",
        "# nba.get_value(4, 0, takeable = True) \n",
        "# nba.head()\n",
        "# nba.get_value(0, 'Base_Units') "
      ],
      "execution_count": 16,
      "outputs": [
        {
          "output_type": "execute_result",
          "data": {
            "text/plain": [
              "11"
            ]
          },
          "metadata": {
            "tags": []
          },
          "execution_count": 16
        }
      ]
    },
    {
      "cell_type": "code",
      "metadata": {
        "id": "ef6fGqB7RIp9",
        "colab_type": "code",
        "colab": {
          "base_uri": "https://localhost:8080/",
          "height": 284
        },
        "outputId": "981b1eba-328a-4dd2-f1c7-8ee4750c2a37"
      },
      "source": [
        "nba.describe()"
      ],
      "execution_count": 17,
      "outputs": [
        {
          "output_type": "execute_result",
          "data": {
            "text/html": [
              "<div>\n",
              "<style scoped>\n",
              "    .dataframe tbody tr th:only-of-type {\n",
              "        vertical-align: middle;\n",
              "    }\n",
              "\n",
              "    .dataframe tbody tr th {\n",
              "        vertical-align: top;\n",
              "    }\n",
              "\n",
              "    .dataframe thead th {\n",
              "        text-align: right;\n",
              "    }\n",
              "</style>\n",
              "<table border=\"1\" class=\"dataframe\">\n",
              "  <thead>\n",
              "    <tr style=\"text-align: right;\">\n",
              "      <th></th>\n",
              "      <th>Item_id</th>\n",
              "      <th>Base_Price</th>\n",
              "      <th>Base_Units</th>\n",
              "      <th>Price1</th>\n",
              "      <th>Units1</th>\n",
              "      <th>Price2</th>\n",
              "      <th>Units2</th>\n",
              "      <th>Price3</th>\n",
              "      <th>Units3</th>\n",
              "      <th>Price4</th>\n",
              "      <th>Units4</th>\n",
              "      <th>Base_Revenue_Per_Item</th>\n",
              "    </tr>\n",
              "  </thead>\n",
              "  <tbody>\n",
              "    <tr>\n",
              "      <th>count</th>\n",
              "      <td>300.000000</td>\n",
              "      <td>300.000000</td>\n",
              "      <td>300.000000</td>\n",
              "      <td>300.000000</td>\n",
              "      <td>300.000000</td>\n",
              "      <td>300.000000</td>\n",
              "      <td>300.000000</td>\n",
              "      <td>300.000000</td>\n",
              "      <td>300.000000</td>\n",
              "      <td>300.000000</td>\n",
              "      <td>300.000000</td>\n",
              "      <td>300.000000</td>\n",
              "    </tr>\n",
              "    <tr>\n",
              "      <th>mean</th>\n",
              "      <td>150.500000</td>\n",
              "      <td>40.063333</td>\n",
              "      <td>481.093333</td>\n",
              "      <td>38.513333</td>\n",
              "      <td>542.926667</td>\n",
              "      <td>36.496667</td>\n",
              "      <td>604.226667</td>\n",
              "      <td>34.500000</td>\n",
              "      <td>665.543333</td>\n",
              "      <td>32.463333</td>\n",
              "      <td>726.873333</td>\n",
              "      <td>19263.240000</td>\n",
              "    </tr>\n",
              "    <tr>\n",
              "      <th>std</th>\n",
              "      <td>86.746758</td>\n",
              "      <td>11.828456</td>\n",
              "      <td>254.868905</td>\n",
              "      <td>11.378991</td>\n",
              "      <td>288.032481</td>\n",
              "      <td>10.728794</td>\n",
              "      <td>322.623073</td>\n",
              "      <td>10.108608</td>\n",
              "      <td>358.265780</td>\n",
              "      <td>9.496452</td>\n",
              "      <td>394.604960</td>\n",
              "      <td>12254.976281</td>\n",
              "    </tr>\n",
              "    <tr>\n",
              "      <th>min</th>\n",
              "      <td>1.000000</td>\n",
              "      <td>20.000000</td>\n",
              "      <td>50.000000</td>\n",
              "      <td>19.000000</td>\n",
              "      <td>56.000000</td>\n",
              "      <td>18.000000</td>\n",
              "      <td>59.000000</td>\n",
              "      <td>17.000000</td>\n",
              "      <td>62.000000</td>\n",
              "      <td>16.000000</td>\n",
              "      <td>65.000000</td>\n",
              "      <td>1050.000000</td>\n",
              "    </tr>\n",
              "    <tr>\n",
              "      <th>25%</th>\n",
              "      <td>75.750000</td>\n",
              "      <td>30.000000</td>\n",
              "      <td>251.750000</td>\n",
              "      <td>29.000000</td>\n",
              "      <td>282.500000</td>\n",
              "      <td>27.000000</td>\n",
              "      <td>317.000000</td>\n",
              "      <td>26.000000</td>\n",
              "      <td>349.000000</td>\n",
              "      <td>24.000000</td>\n",
              "      <td>384.250000</td>\n",
              "      <td>8808.500000</td>\n",
              "    </tr>\n",
              "    <tr>\n",
              "      <th>50%</th>\n",
              "      <td>150.500000</td>\n",
              "      <td>41.000000</td>\n",
              "      <td>489.000000</td>\n",
              "      <td>39.000000</td>\n",
              "      <td>541.000000</td>\n",
              "      <td>37.000000</td>\n",
              "      <td>592.000000</td>\n",
              "      <td>35.000000</td>\n",
              "      <td>653.000000</td>\n",
              "      <td>33.000000</td>\n",
              "      <td>710.500000</td>\n",
              "      <td>17409.000000</td>\n",
              "    </tr>\n",
              "    <tr>\n",
              "      <th>75%</th>\n",
              "      <td>225.250000</td>\n",
              "      <td>50.000000</td>\n",
              "      <td>700.750000</td>\n",
              "      <td>48.000000</td>\n",
              "      <td>797.250000</td>\n",
              "      <td>45.000000</td>\n",
              "      <td>886.250000</td>\n",
              "      <td>43.000000</td>\n",
              "      <td>977.750000</td>\n",
              "      <td>40.000000</td>\n",
              "      <td>1057.000000</td>\n",
              "      <td>27759.000000</td>\n",
              "    </tr>\n",
              "    <tr>\n",
              "      <th>max</th>\n",
              "      <td>300.000000</td>\n",
              "      <td>60.000000</td>\n",
              "      <td>949.000000</td>\n",
              "      <td>57.000000</td>\n",
              "      <td>1104.000000</td>\n",
              "      <td>54.000000</td>\n",
              "      <td>1273.000000</td>\n",
              "      <td>51.000000</td>\n",
              "      <td>1443.000000</td>\n",
              "      <td>48.000000</td>\n",
              "      <td>1612.000000</td>\n",
              "      <td>53238.000000</td>\n",
              "    </tr>\n",
              "  </tbody>\n",
              "</table>\n",
              "</div>"
            ],
            "text/plain": [
              "          Item_id  Base_Price  ...       Units4  Base_Revenue_Per_Item\n",
              "count  300.000000  300.000000  ...   300.000000             300.000000\n",
              "mean   150.500000   40.063333  ...   726.873333           19263.240000\n",
              "std     86.746758   11.828456  ...   394.604960           12254.976281\n",
              "min      1.000000   20.000000  ...    65.000000            1050.000000\n",
              "25%     75.750000   30.000000  ...   384.250000            8808.500000\n",
              "50%    150.500000   41.000000  ...   710.500000           17409.000000\n",
              "75%    225.250000   50.000000  ...  1057.000000           27759.000000\n",
              "max    300.000000   60.000000  ...  1612.000000           53238.000000\n",
              "\n",
              "[8 rows x 12 columns]"
            ]
          },
          "metadata": {
            "tags": []
          },
          "execution_count": 17
        }
      ]
    },
    {
      "cell_type": "code",
      "metadata": {
        "id": "-uD0dxeWv8SY",
        "colab_type": "code",
        "colab": {}
      },
      "source": [
        "baserpi = nba['Base_Price'] * nba['Base_Units']\n",
        "nba['Base_Revenue_Per_Item'] = baserpi"
      ],
      "execution_count": 18,
      "outputs": []
    },
    {
      "cell_type": "code",
      "metadata": {
        "id": "42JZVu6dxzUN",
        "colab_type": "code",
        "colab": {
          "base_uri": "https://localhost:8080/",
          "height": 402
        },
        "outputId": "5e220179-0b1e-4353-ee80-0a7fd606f455"
      },
      "source": [
        "nba"
      ],
      "execution_count": 19,
      "outputs": [
        {
          "output_type": "execute_result",
          "data": {
            "text/html": [
              "<div>\n",
              "<style scoped>\n",
              "    .dataframe tbody tr th:only-of-type {\n",
              "        vertical-align: middle;\n",
              "    }\n",
              "\n",
              "    .dataframe tbody tr th {\n",
              "        vertical-align: top;\n",
              "    }\n",
              "\n",
              "    .dataframe thead th {\n",
              "        text-align: right;\n",
              "    }\n",
              "</style>\n",
              "<table border=\"1\" class=\"dataframe\">\n",
              "  <thead>\n",
              "    <tr style=\"text-align: right;\">\n",
              "      <th></th>\n",
              "      <th>Item_id</th>\n",
              "      <th>Base_Price</th>\n",
              "      <th>Base_Units</th>\n",
              "      <th>Price1</th>\n",
              "      <th>Units1</th>\n",
              "      <th>Price2</th>\n",
              "      <th>Units2</th>\n",
              "      <th>Price3</th>\n",
              "      <th>Units3</th>\n",
              "      <th>Price4</th>\n",
              "      <th>Units4</th>\n",
              "      <th>Base_Revenue_Per_Item</th>\n",
              "    </tr>\n",
              "  </thead>\n",
              "  <tbody>\n",
              "    <tr>\n",
              "      <th>0</th>\n",
              "      <td>1</td>\n",
              "      <td>54</td>\n",
              "      <td>79</td>\n",
              "      <td>52</td>\n",
              "      <td>94</td>\n",
              "      <td>49</td>\n",
              "      <td>108</td>\n",
              "      <td>46</td>\n",
              "      <td>122</td>\n",
              "      <td>44</td>\n",
              "      <td>137</td>\n",
              "      <td>4266</td>\n",
              "    </tr>\n",
              "    <tr>\n",
              "      <th>1</th>\n",
              "      <td>2</td>\n",
              "      <td>56</td>\n",
              "      <td>803</td>\n",
              "      <td>54</td>\n",
              "      <td>928</td>\n",
              "      <td>51</td>\n",
              "      <td>1053</td>\n",
              "      <td>48</td>\n",
              "      <td>1177</td>\n",
              "      <td>45</td>\n",
              "      <td>1302</td>\n",
              "      <td>44968</td>\n",
              "    </tr>\n",
              "    <tr>\n",
              "      <th>2</th>\n",
              "      <td>3</td>\n",
              "      <td>48</td>\n",
              "      <td>563</td>\n",
              "      <td>46</td>\n",
              "      <td>653</td>\n",
              "      <td>44</td>\n",
              "      <td>743</td>\n",
              "      <td>41</td>\n",
              "      <td>833</td>\n",
              "      <td>39</td>\n",
              "      <td>923</td>\n",
              "      <td>27024</td>\n",
              "    </tr>\n",
              "    <tr>\n",
              "      <th>3</th>\n",
              "      <td>4</td>\n",
              "      <td>49</td>\n",
              "      <td>65</td>\n",
              "      <td>47</td>\n",
              "      <td>71</td>\n",
              "      <td>45</td>\n",
              "      <td>76</td>\n",
              "      <td>42</td>\n",
              "      <td>82</td>\n",
              "      <td>40</td>\n",
              "      <td>87</td>\n",
              "      <td>3185</td>\n",
              "    </tr>\n",
              "    <tr>\n",
              "      <th>4</th>\n",
              "      <td>5</td>\n",
              "      <td>22</td>\n",
              "      <td>497</td>\n",
              "      <td>21</td>\n",
              "      <td>589</td>\n",
              "      <td>20</td>\n",
              "      <td>680</td>\n",
              "      <td>19</td>\n",
              "      <td>771</td>\n",
              "      <td>18</td>\n",
              "      <td>862</td>\n",
              "      <td>10934</td>\n",
              "    </tr>\n",
              "    <tr>\n",
              "      <th>...</th>\n",
              "      <td>...</td>\n",
              "      <td>...</td>\n",
              "      <td>...</td>\n",
              "      <td>...</td>\n",
              "      <td>...</td>\n",
              "      <td>...</td>\n",
              "      <td>...</td>\n",
              "      <td>...</td>\n",
              "      <td>...</td>\n",
              "      <td>...</td>\n",
              "      <td>...</td>\n",
              "      <td>...</td>\n",
              "    </tr>\n",
              "    <tr>\n",
              "      <th>295</th>\n",
              "      <td>296</td>\n",
              "      <td>43</td>\n",
              "      <td>493</td>\n",
              "      <td>41</td>\n",
              "      <td>547</td>\n",
              "      <td>39</td>\n",
              "      <td>601</td>\n",
              "      <td>37</td>\n",
              "      <td>654</td>\n",
              "      <td>35</td>\n",
              "      <td>708</td>\n",
              "      <td>21199</td>\n",
              "    </tr>\n",
              "    <tr>\n",
              "      <th>296</th>\n",
              "      <td>297</td>\n",
              "      <td>41</td>\n",
              "      <td>502</td>\n",
              "      <td>39</td>\n",
              "      <td>585</td>\n",
              "      <td>37</td>\n",
              "      <td>667</td>\n",
              "      <td>35</td>\n",
              "      <td>749</td>\n",
              "      <td>33</td>\n",
              "      <td>831</td>\n",
              "      <td>20582</td>\n",
              "    </tr>\n",
              "    <tr>\n",
              "      <th>297</th>\n",
              "      <td>298</td>\n",
              "      <td>38</td>\n",
              "      <td>748</td>\n",
              "      <td>37</td>\n",
              "      <td>791</td>\n",
              "      <td>35</td>\n",
              "      <td>834</td>\n",
              "      <td>33</td>\n",
              "      <td>877</td>\n",
              "      <td>31</td>\n",
              "      <td>920</td>\n",
              "      <td>28424</td>\n",
              "    </tr>\n",
              "    <tr>\n",
              "      <th>298</th>\n",
              "      <td>299</td>\n",
              "      <td>33</td>\n",
              "      <td>285</td>\n",
              "      <td>32</td>\n",
              "      <td>316</td>\n",
              "      <td>30</td>\n",
              "      <td>346</td>\n",
              "      <td>29</td>\n",
              "      <td>376</td>\n",
              "      <td>27</td>\n",
              "      <td>407</td>\n",
              "      <td>9405</td>\n",
              "    </tr>\n",
              "    <tr>\n",
              "      <th>299</th>\n",
              "      <td>300</td>\n",
              "      <td>29</td>\n",
              "      <td>674</td>\n",
              "      <td>28</td>\n",
              "      <td>761</td>\n",
              "      <td>27</td>\n",
              "      <td>847</td>\n",
              "      <td>25</td>\n",
              "      <td>933</td>\n",
              "      <td>24</td>\n",
              "      <td>1019</td>\n",
              "      <td>19546</td>\n",
              "    </tr>\n",
              "  </tbody>\n",
              "</table>\n",
              "<p>300 rows × 12 columns</p>\n",
              "</div>"
            ],
            "text/plain": [
              "     Item_id  Base_Price  Base_Units  ...  Price4  Units4  Base_Revenue_Per_Item\n",
              "0          1          54          79  ...      44     137                   4266\n",
              "1          2          56         803  ...      45    1302                  44968\n",
              "2          3          48         563  ...      39     923                  27024\n",
              "3          4          49          65  ...      40      87                   3185\n",
              "4          5          22         497  ...      18     862                  10934\n",
              "..       ...         ...         ...  ...     ...     ...                    ...\n",
              "295      296          43         493  ...      35     708                  21199\n",
              "296      297          41         502  ...      33     831                  20582\n",
              "297      298          38         748  ...      31     920                  28424\n",
              "298      299          33         285  ...      27     407                   9405\n",
              "299      300          29         674  ...      24    1019                  19546\n",
              "\n",
              "[300 rows x 12 columns]"
            ]
          },
          "metadata": {
            "tags": []
          },
          "execution_count": 19
        }
      ]
    },
    {
      "cell_type": "code",
      "metadata": {
        "id": "qfqkF7pM0uHz",
        "colab_type": "code",
        "colab": {}
      },
      "source": [
        "Base_Revenue = nba['Base_Revenue_Per_Item'].sum()"
      ],
      "execution_count": 20,
      "outputs": []
    },
    {
      "cell_type": "code",
      "metadata": {
        "id": "GZPRSK_u03wo",
        "colab_type": "code",
        "colab": {
          "base_uri": "https://localhost:8080/",
          "height": 34
        },
        "outputId": "b49c38fc-15b8-4893-ecc2-32861e9e83ea"
      },
      "source": [
        "Base_Revenue"
      ],
      "execution_count": 21,
      "outputs": [
        {
          "output_type": "execute_result",
          "data": {
            "text/plain": [
              "5778972"
            ]
          },
          "metadata": {
            "tags": []
          },
          "execution_count": 21
        }
      ]
    },
    {
      "cell_type": "code",
      "metadata": {
        "id": "geUpaXIr08AX",
        "colab_type": "code",
        "colab": {}
      },
      "source": [
        "Total_Base_Units = nba['Base_Units'].sum()"
      ],
      "execution_count": 22,
      "outputs": []
    },
    {
      "cell_type": "code",
      "metadata": {
        "id": "263z5Lz-1LsM",
        "colab_type": "code",
        "colab": {
          "base_uri": "https://localhost:8080/",
          "height": 34
        },
        "outputId": "6837c6a0-a7cb-4635-9a0b-bea6eb4e010b"
      },
      "source": [
        "Total_Base_Units"
      ],
      "execution_count": 23,
      "outputs": [
        {
          "output_type": "execute_result",
          "data": {
            "text/plain": [
              "144328"
            ]
          },
          "metadata": {
            "tags": []
          },
          "execution_count": 23
        }
      ]
    },
    {
      "cell_type": "code",
      "metadata": {
        "id": "dU_Tfqm12DRB",
        "colab_type": "code",
        "colab": {}
      },
      "source": [
        "x = 0.10\n",
        "y = 0.25\n",
        "\n",
        "Erevenue = Base_Revenue * (1 + x);\n",
        "Equantity = Total_Base_Units * (1 + y); "
      ],
      "execution_count": 24,
      "outputs": []
    },
    {
      "cell_type": "code",
      "metadata": {
        "id": "jK6MAKTf-cub",
        "colab_type": "code",
        "colab": {
          "base_uri": "https://localhost:8080/",
          "height": 50
        },
        "outputId": "c3fa8082-4674-4442-88ae-93ca54946e4d"
      },
      "source": [
        "i = nba[nba['Item_id']==300]\n",
        "print(i['Base_Price'])"
      ],
      "execution_count": 25,
      "outputs": [
        {
          "output_type": "stream",
          "text": [
            "299    29\n",
            "Name: Base_Price, dtype: int64\n"
          ],
          "name": "stdout"
        }
      ]
    },
    {
      "cell_type": "code",
      "metadata": {
        "id": "QqaTr8BhCOHD",
        "colab_type": "code",
        "colab": {
          "base_uri": "https://localhost:8080/",
          "height": 35
        },
        "outputId": "6d8f076e-9f0c-4994-98bd-40835b908217"
      },
      "source": [
        "import math\n",
        "er = math.floor(Erevenue)\n",
        "eq = math.floor(Equantity)\n",
        "index = 299\n",
        "\n",
        "key = str(index) +\"_\" + str(er) + \"_\" + str(eq)\n",
        "key"
      ],
      "execution_count": 26,
      "outputs": [
        {
          "output_type": "execute_result",
          "data": {
            "application/vnd.google.colaboratory.intrinsic+json": {
              "type": "string"
            },
            "text/plain": [
              "'299_6356869_180410'"
            ]
          },
          "metadata": {
            "tags": []
          },
          "execution_count": 26
        }
      ]
    },
    {
      "cell_type": "code",
      "metadata": {
        "id": "JbRGCfGFGN18",
        "colab_type": "code",
        "colab": {
          "base_uri": "https://localhost:8080/",
          "height": 34
        },
        "outputId": "97e58907-60ca-41f5-bf1b-e64f870aeffd"
      },
      "source": [
        "#HashMap<String, bool> var = new HashMap<String, bool>()\n",
        "\n",
        "import pprint\n",
        "import array\n",
        "import numpy\n",
        "dp = {}\n",
        "def solve(er,eq,index):\n",
        "  if index < 0:\n",
        "    return False\n",
        "  key = str(index) +\"_\" + str(er) + \"_\" + str(eq)\n",
        "  if er<0 and eq<0:\n",
        "    dp[key] = True\n",
        "    return dp[key]\n",
        "  if key in dp.keys(): \n",
        "    return dp[key]\n",
        "  i = nba[nba['Item_id']==index]\n",
        "  #print(i['Base_Price'])\n",
        "  bp = nba.at[index, 'Base_Price'] \n",
        "  bq = nba.at[index, 'Base_Units'] \n",
        "  p1 = nba.at[index, 'Price1']\n",
        "  q1 = nba.at[index, 'Units1'] \n",
        "  p2 = nba.at[index, 'Price2'] \n",
        "  q2 = nba.at[index, 'Units2'] \n",
        "  p3 = nba.at[index, 'Price3'] \n",
        "  q3 = nba.at[index, 'Units3'] \n",
        "  p4 = nba.at[index, 'Price4'] \n",
        "  q4 = nba.at[index, 'Units4'] \n",
        "  bp\n",
        "  dp[key] = solve(er- bp*bq,eq-bq,index-1) or solve(er- p1*q1,eq-q1,index-1) or solve(er- p2*q2,eq-q2,index-1) or solve(er- p3*q3,eq-q3,index-1) or solve(er- p4*q4,eq-q4,index-1)\n",
        "            # solve(er- p1*q1,eq-q1,n-1) or\n",
        "            # solve(er- p2*q2,eq-q2,n-1) or\n",
        "            # solve(er- p3*q3,eq-q3,n-1) or\n",
        "            # solve(er- p4*q4,eq-q4,n-1)\n",
        "  return dp[key]\n",
        "solve(er, eq, 5)"
      ],
      "execution_count": 29,
      "outputs": [
        {
          "output_type": "execute_result",
          "data": {
            "text/plain": [
              "False"
            ]
          },
          "metadata": {
            "tags": []
          },
          "execution_count": 29
        }
      ]
    },
    {
      "cell_type": "code",
      "metadata": {
        "id": "GE2dvy2ewVPn",
        "colab_type": "code",
        "colab": {
          "base_uri": "https://localhost:8080/",
          "height": 53
        },
        "outputId": "e80c4127-3c3c-408b-de8b-c90f0c9e6cc2"
      },
      "source": [
        "i = nba[nba['Item_id']==299]\n",
        "print(i['Base_Price'])"
      ],
      "execution_count": null,
      "outputs": [
        {
          "output_type": "stream",
          "text": [
            "298    33\n",
            "Name: Base_Price, dtype: int64\n"
          ],
          "name": "stdout"
        }
      ]
    },
    {
      "cell_type": "code",
      "metadata": {
        "id": "br72BQjyfXD_",
        "colab_type": "code",
        "colab": {}
      },
      "source": [
        "import array\n",
        "import numpy \n",
        "index = 299\n",
        "# ans = array.array('i')\n",
        "size = 300\n",
        "ans = [0] * size\n",
        "def backtrack(index,er,eq):\n",
        "  i = nba[nba['Item_id']==index]\n",
        "  print(i['Base_Price'])\n",
        " # nba.at[index, 'Base_Price'] \n",
        "  bp = nba.at[index, 'Base_Price'] \n",
        "  bq = nba.at[index, 'Base_Units'] \n",
        "  p1 = nba.at[index, 'Price1']\n",
        "  q1 = nba.at[index, 'Units1'] \n",
        "  p2 = nba.at[index, 'Price2'] \n",
        "  q2 = nba.at[index, 'Units2'] \n",
        "  p3 = nba.at[index, 'Price3'] \n",
        "  q3 = nba.at[index, 'Units3'] \n",
        "  p4 = nba.at[index, 'Price4'] \n",
        "  q4 = nba.at[index, 'Units4'] \n",
        "  print(bp)\n",
        "  print(bq)\n",
        "  print(p1)\n",
        "  print(p2)\n",
        "  print(p3)\n",
        "  print(p4)\n",
        "  print(q1)\n",
        "  print(q2)\n",
        "  print(q3)\n",
        "  print(q4)\n",
        "  key1 = str(index) +\"_\" + str(er - p1*q1) + \"_\" + str(eq - q1)\n",
        "  key2 = str(index) +\"_\" + str(er - p2*q2) + \"_\" + str(eq - q2)\n",
        "  key3 = str(index) +\"_\" + str(er - p3*q3) + \"_\" + str(eq - q3)\n",
        "  key4 = str(index) +\"_\" + str(er - p4*q4) + \"_\" + str(eq - q4)\n",
        "  key5 = str(index) +\"_\" + str(er - bp*bq) + \"_\" + str(eq - bq)\n",
        "  if key1 in dp and dp[key1]:\n",
        "    ans[i] = 1;\n",
        "    backtrack(index-1, er - p1*q1, eq-q1)\n",
        "  elif key2 in dp and dp[key2]:\n",
        "    ans[i] = 2;\n",
        "    backtrack(index-1, er - p2*q2, eq-q2)\n",
        "  elif key3 in dp and dp[key3]:\n",
        "    ans[i] = 3\n",
        "    backtrack(index-1, er - p3*q3, eq-q3)\n",
        "  elif key4 in dp and dp[key4]:\n",
        "    ans[i] = 4;\n",
        "    backtrack(index-1,er - p4*q4,eq-q4)\n",
        "  elif key5 in dp and dp[key5]:\n",
        "    backtrack(index-1,er - bp*bq,eq-bq)\n",
        "  return"
      ],
      "execution_count": 37,
      "outputs": []
    },
    {
      "cell_type": "code",
      "metadata": {
        "id": "YMLFgeqfvVoB",
        "colab_type": "code",
        "colab": {
          "base_uri": "https://localhost:8080/",
          "height": 218
        },
        "outputId": "f123c420-eb4d-4f0f-b1f5-8ac1d4322ff2"
      },
      "source": [
        "solve(1000, 1000, 10)\n",
        "backtrack(10, 1000, 1000)\n",
        "\n",
        "# for i in range (0, 299): \n",
        "#     print (ans[i], end =\" \") \n",
        "# print() "
      ],
      "execution_count": 38,
      "outputs": [
        {
          "output_type": "stream",
          "text": [
            "9    32\n",
            "Name: Base_Price, dtype: int64\n",
            "34\n",
            "244\n",
            "33\n",
            "31\n",
            "29\n",
            "28\n",
            "292\n",
            "339\n",
            "387\n",
            "434\n"
          ],
          "name": "stdout"
        }
      ]
    }
  ]
}